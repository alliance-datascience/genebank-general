{
 "cells": [
  {
   "cell_type": "code",
   "execution_count": null,
   "id": "18d0a28c-1321-4f01-bf8f-07a1cb8b70b7",
   "metadata": {
    "tags": []
   },
   "outputs": [],
   "source": [
    "pip install tiktoken"
   ]
  },
  {
   "cell_type": "code",
   "execution_count": 1,
   "id": "a0a15bc7-4648-4196-a8f4-dfb51a5b482f",
   "metadata": {
    "tags": []
   },
   "outputs": [
    {
     "name": "stdout",
     "output_type": "stream",
     "text": [
      "3.10.14 | packaged by conda-forge | (main, Mar 20 2024, 12:45:18) [GCC 12.3.0]\n"
     ]
    }
   ],
   "source": [
    "import sys\n",
    "print(sys.version)"
   ]
  },
  {
   "cell_type": "code",
   "execution_count": 2,
   "id": "362e4dae-e839-4b83-94a2-26967eb299a5",
   "metadata": {
    "tags": []
   },
   "outputs": [],
   "source": [
    "import tiktoken"
   ]
  },
  {
   "cell_type": "code",
   "execution_count": 3,
   "id": "873f1557-c571-4fe2-b47d-8163a8d8122b",
   "metadata": {
    "tags": []
   },
   "outputs": [],
   "source": [
    "def contar_tokens(texto, modelo=\"gpt-3.5-turbo\"):\n",
    "    codificador = tiktoken.encoding_for_model(modelo)\n",
    "    return len(codificador.encode(texto))"
   ]
  },
  {
   "cell_type": "code",
   "execution_count": 4,
   "id": "120d95d2-2f7d-4f41-b074-c427206aae77",
   "metadata": {
    "tags": []
   },
   "outputs": [
    {
     "name": "stdout",
     "output_type": "stream",
     "text": [
      "El texto contiene 10 tokens.\n"
     ]
    }
   ],
   "source": [
    "# Ejemplo de uso\n",
    "texto_ejemplo = \"Este es un ejemplo de texto para contar tokens.\"\n",
    "num_tokens = contar_tokens(texto_ejemplo)\n",
    "print(f\"El texto contiene {num_tokens} tokens.\")"
   ]
  },
  {
   "cell_type": "code",
   "execution_count": null,
   "id": "994d0d86-52cd-4617-9a93-6941dd3348b7",
   "metadata": {},
   "outputs": [],
   "source": []
  }
 ],
 "metadata": {
  "kernelspec": {
   "display_name": "conda_python3",
   "language": "python",
   "name": "conda_python3"
  },
  "language_info": {
   "codemirror_mode": {
    "name": "ipython",
    "version": 3
   },
   "file_extension": ".py",
   "mimetype": "text/x-python",
   "name": "python",
   "nbconvert_exporter": "python",
   "pygments_lexer": "ipython3",
   "version": "3.10.14"
  }
 },
 "nbformat": 4,
 "nbformat_minor": 5
}
