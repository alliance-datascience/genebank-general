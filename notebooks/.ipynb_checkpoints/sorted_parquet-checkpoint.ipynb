{
 "cells": [
  {
   "cell_type": "code",
   "execution_count": null,
   "id": "28e8c321",
   "metadata": {},
   "outputs": [],
   "source": [
    "import os\n",
    "import pandas as pd\n",
    "import pyarrow.parquet as pq\n",
    "import re\n",
    "import json"
   ]
  },
  {
   "cell_type": "code",
   "execution_count": null,
   "id": "3172da66",
   "metadata": {},
   "outputs": [],
   "source": [
    "parquet_file_path = '/home/ec2-user/SageMaker/genebanks/data/3_out_data/Ecogeographic survey of the target species-Costa Rica-2004.parquet'\n",
    "df = pd.read_parquet(parquet_file_path, engine='pyarrow')\n",
    "df.head()"
   ]
  },
  {
   "cell_type": "code",
   "execution_count": null,
   "id": "7b301de4",
   "metadata": {},
   "outputs": [],
   "source": [
    "#Contar caracteres de cada pagina extraida\n",
    "df['conteo_caracteres'] = df['Texto_Extraido'].astype(str).apply(len)\n",
    "df.head()"
   ]
  },
  {
   "cell_type": "code",
   "execution_count": null,
   "id": "92a06cf2",
   "metadata": {},
   "outputs": [],
   "source": [
    "# Obtener número de pagina\n",
    "def extract_page_number(image_name):\n",
    "    match = re.search(r'\\d+', image_name)\n",
    "    if match:\n",
    "        return int(match.group())\n",
    "    return 0"
   ]
  },
  {
   "cell_type": "code",
   "execution_count": null,
   "id": "5ae9b6f2",
   "metadata": {},
   "outputs": [],
   "source": [
    "# Crear nueva columna \"Numero_Pagina\"\n",
    "df['Numero_Pagina'] = df['Nombre_Imagen'].apply(extract_page_number)\n",
    "# Ordenar df por el número de página de menor a mayor\n",
    "df_sorted = df.sort_values(by='Numero_Pagina')\n",
    "df_sorted.head()"
   ]
  },
  {
   "cell_type": "code",
   "execution_count": null,
   "id": "0688b899",
   "metadata": {},
   "outputs": [],
   "source": [
    "def process_parquet(carpeta_parquet, columna_texto, columna_imagen, nueva_columna_caracteres='conteo_caracteres', nueva_columna_pagina='Numero_Pagina'):\n",
    "    def extract_page_number(image_name):\n",
    "        # Extraer el número de página\n",
    "        match = re.search(r'\\d+', image_name)\n",
    "        if match:\n",
    "            return int(match.group())\n",
    "        return 0\n",
    "\n",
    "    # Lista de archivos Parquet en la carpeta\n",
    "    archivos_parquet = [f for f in os.listdir(carpeta_parquet) if f.endswith('.parquet')]\n",
    "\n",
    "    for archivo in archivos_parquet:\n",
    "        # Leer el archivo Parquet en un DataFrame\n",
    "        path_archivo = os.path.join(carpeta_parquet, archivo)\n",
    "        df = pd.read_parquet(path_archivo)\n",
    "\n",
    "        # Verificar si las columnas especificadas existen en el DataFrame\n",
    "        if columna_texto in df.columns and columna_imagen in df.columns:\n",
    "            # Castear las columnas de texto como object\n",
    "            df[columna_texto] = df[columna_texto].astype('object')\n",
    "            df[columna_imagen] = df[columna_imagen].astype('object')\n",
    "            \n",
    "            # Contar caracteres en la columna de texto\n",
    "            df[nueva_columna_caracteres] = df[columna_texto].astype(str).apply(len)\n",
    "            \n",
    "            # Crear una nueva columna con el número de página\n",
    "            df[nueva_columna_pagina] = df[columna_imagen].apply(extract_page_number)\n",
    "            \n",
    "            # Ordenar el DataFrame por el número de página de menor a mayor\n",
    "            df_sorted = df.sort_values(by=nueva_columna_pagina)\n",
    "            \n",
    "            # Guardar el DataFrame modificado de nuevo como archivo Parquet\n",
    "            df_sorted.to_parquet(path_archivo, index=False, engine='pyarrow')\n",
    "        else:\n",
    "            print(f\"Las columnas '{columna_texto}' y/o '{columna_imagen}' no se encuentran en el archivo {archivo}\")"
   ]
  },
  {
   "cell_type": "code",
   "execution_count": null,
   "id": "3debece3",
   "metadata": {},
   "outputs": [],
   "source": [
    "carpeta_parquet = '/home/ec2-user/SageMaker/genebanks/data/3_out_data'\n",
    "columna_texto = 'Texto_Extraido'\n",
    "columna_imagen = 'Nombre_Imagen'\n",
    "process_parquet(carpeta_parquet, columna_texto, columna_imagen)"
   ]
  },
  {
   "cell_type": "code",
   "execution_count": null,
   "id": "103cf313",
   "metadata": {},
   "outputs": [],
   "source": []
  }
 ],
 "metadata": {
  "kernelspec": {
   "display_name": "conda_python3",
   "language": "python",
   "name": "conda_python3"
  },
  "language_info": {
   "codemirror_mode": {
    "name": "ipython",
    "version": 3
   },
   "file_extension": ".py",
   "mimetype": "text/x-python",
   "name": "python",
   "nbconvert_exporter": "python",
   "pygments_lexer": "ipython3",
   "version": "3.10.14"
  }
 },
 "nbformat": 4,
 "nbformat_minor": 5
}
