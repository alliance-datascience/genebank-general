{
 "cells": [
  {
   "cell_type": "markdown",
   "id": "ad0a8dec-e3f0-4aa8-9d27-9f0e45b82815",
   "metadata": {},
   "source": [
    "## Instalar librerias"
   ]
  },
  {
   "cell_type": "code",
   "execution_count": 1,
   "id": "6c9ce740",
   "metadata": {
    "tags": []
   },
   "outputs": [],
   "source": [
    "%%capture\n",
    "!pip install pypdf pymupdf unstructured pdf2image pdfminer pillow-heif opencv-python unstructured_inference pytesseract unstructured_pytesseract tesseract"
   ]
  },
  {
   "cell_type": "code",
   "execution_count": 2,
   "id": "73e0c510-c21f-470e-beeb-83e5c1aa2625",
   "metadata": {
    "tags": []
   },
   "outputs": [],
   "source": [
    "%%capture\n",
    "!pip install openai langchain_openai langchain langchain_community"
   ]
  },
  {
   "cell_type": "markdown",
   "id": "70259eab-5fa1-4f47-85be-ce54a243a5de",
   "metadata": {},
   "source": [
    "## Cargar Librerias"
   ]
  },
  {
   "cell_type": "code",
   "execution_count": 3,
   "id": "1201f60c",
   "metadata": {
    "tags": []
   },
   "outputs": [],
   "source": [
    "import os\n",
    "import pandas as pd\n",
    "import re\n",
    "import openai\n",
    "import json\n",
    "from langchain_openai import ChatOpenAI\n",
    "from langchain.prompts import ChatPromptTemplate\n",
    "from langchain.document_loaders import PyPDFLoader\n",
    "from langchain_community.document_loaders import PyMuPDFLoader\n",
    "from langchain_community.document_loaders.image import UnstructuredImageLoader\n",
    "import cv2\n",
    "import pytesseract\n",
    "from PIL import Image\n",
    "import yaml"
   ]
  },
  {
   "cell_type": "code",
   "execution_count": 4,
   "id": "c54bc905-37d7-4de1-9fdc-b1ef63a6fbac",
   "metadata": {
    "tags": []
   },
   "outputs": [],
   "source": [
    "config_file = '/home/ec2-user/SageMaker/genebanks/genebank-general/config/config.yml'\n",
    "with open(config_file, 'r') as file:\n",
    "    config = yaml.safe_load(file)\n",
    "\n",
    "# Establecer las variables de entorno\n",
    "for key, value in config.items():\n",
    "    os.environ[key] = value"
   ]
  },
  {
   "cell_type": "code",
   "execution_count": 5,
   "id": "206d4f4c-0516-48f3-acde-9f66d37d14f5",
   "metadata": {
    "tags": []
   },
   "outputs": [],
   "source": [
    "OPENAI_API_KEY = os.getenv(\"OPENAI_API_KEY\")\n",
    "openAIModelName = 'gpt-4o'"
   ]
  },
  {
   "cell_type": "code",
   "execution_count": null,
   "id": "4e8c6a9b",
   "metadata": {},
   "outputs": [],
   "source": [
    "llm_mod1 = ChatOpenAI(model_name = openAIModelName,\n",
    "                        temperature=0.3)\n",
    "llm_mod2 = ChatOpenAI(model_name = openAIModelName,\n",
    "                        temperature=0.5)\n",
    "\n",
    "template = \"\"\"Actúa como observador de colectas y extrae del siguiente documento en formato pdf los datos de cada colecta, incluyendo la latitud (Lat.), longitud (Lon.) y altitud (Alt.)\n",
    "Si encuentras información en una tabla, extraela también tal cual teniendo en cuenta el ID o No de cada registro.\n",
    "\"\"\"\n",
    "human_template = \"{text}\"\n",
    "\n",
    "chat_prompt = ChatPromptTemplate.from_messages([\n",
    "    (\"system\", template),\n",
    "    (\"human\", human_template),\n",
    "])"
   ]
  },
  {
   "cell_type": "code",
   "execution_count": null,
   "id": "63a2de12",
   "metadata": {},
   "outputs": [],
   "source": [
    "#loader = PyPDFLoader('/home/ec2-user/SageMaker/genebanks/data/1_pdf_docs/Ecogeographic survey of the target species-Costa Rica-2004.pdf')\n",
    "#document = loader.load()\n",
    "#result = resumeChainProfileIndividual.invoke(document)"
   ]
  },
  {
   "cell_type": "code",
   "execution_count": null,
   "id": "450b4b08",
   "metadata": {},
   "outputs": [],
   "source": [
    "#messages = chat_prompt.format_messages(text=document)\n",
    "#result1 = llm_mod1.invoke(messages)\n",
    "#print(result1.content)"
   ]
  },
  {
   "cell_type": "code",
   "execution_count": null,
   "id": "05f9f125",
   "metadata": {},
   "outputs": [],
   "source": [
    "#loader = PyMuPDFLoader('/home/ec2-user/SageMaker/genebanks/data/1_pdf_docs/Ecogeographic survey of the target species-Costa Rica-2004.pdf')\n",
    "#data = loader.load()"
   ]
  },
  {
   "cell_type": "code",
   "execution_count": null,
   "id": "e3fd5373",
   "metadata": {},
   "outputs": [],
   "source": [
    "#messages = chat_prompt.format_messages(text=data)\n",
    "#result1 = llm_mod1.invoke(messages)\n",
    "#print(result1.content)"
   ]
  },
  {
   "cell_type": "code",
   "execution_count": null,
   "id": "d96320eb",
   "metadata": {},
   "outputs": [],
   "source": [
    "pytesseract.pytesseract.tesseract_cmd = r'/home/ec2-user/anaconda3/envs/python3/lib/python3.10/site-packages/tesseract/tesseract.exe'"
   ]
  },
  {
   "cell_type": "code",
   "execution_count": null,
   "id": "99c5d3ba",
   "metadata": {},
   "outputs": [],
   "source": [
    "loader = UnstructuredImageLoader('/home/ec2-user/SageMaker/genebanks/data/2_images/Ecogeographic survey of the target species-Costa Rica-2004/page_7.png')\n",
    "data = loader.load()"
   ]
  },
  {
   "cell_type": "code",
   "execution_count": null,
   "id": "03f738a0",
   "metadata": {},
   "outputs": [],
   "source": []
  },
  {
   "cell_type": "code",
   "execution_count": null,
   "id": "29eda681",
   "metadata": {},
   "outputs": [],
   "source": []
  },
  {
   "cell_type": "code",
   "execution_count": null,
   "id": "9d07759e",
   "metadata": {},
   "outputs": [],
   "source": []
  }
 ],
 "metadata": {
  "kernelspec": {
   "display_name": "conda_python3",
   "language": "python",
   "name": "conda_python3"
  },
  "language_info": {
   "codemirror_mode": {
    "name": "ipython",
    "version": 3
   },
   "file_extension": ".py",
   "mimetype": "text/x-python",
   "name": "python",
   "nbconvert_exporter": "python",
   "pygments_lexer": "ipython3",
   "version": "3.10.14"
  }
 },
 "nbformat": 4,
 "nbformat_minor": 5
}
