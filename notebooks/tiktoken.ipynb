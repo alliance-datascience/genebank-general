{
 "cells": [
  {
   "cell_type": "code",
   "execution_count": null,
   "id": "a88512d9-9b6d-49f9-a586-adb6391502f4",
   "metadata": {},
   "outputs": [],
   "source": []
  },
  {
   "cell_type": "code",
   "execution_count": null,
   "id": "b51f0f47-ccbb-413e-aa56-76ac8d630573",
   "metadata": {
    "tags": []
   },
   "outputs": [],
   "source": [
    "!conda create -n langchain_env python=3.9 -y\n",
    "!conda activate langchain_env\n",
    "!conda install -c conda-forge langchain openai tiktoken -y"
   ]
  },
  {
   "cell_type": "code",
   "execution_count": null,
   "id": "e93995e5-5acb-42a5-a69b-62dc3c2dd23e",
   "metadata": {},
   "outputs": [],
   "source": [
    "!pip install --target=$HOME/my_packages langchain openai tiktoken\n",
    "import sys\n",
    "sys.path.append('/home/ec2-user/my_packages')"
   ]
  },
  {
   "cell_type": "code",
   "execution_count": null,
   "id": "63bc3d94-06f6-4a23-b333-d7ad5a59caba",
   "metadata": {},
   "outputs": [],
   "source": [
    "!pip install --user langchain openai tiktoken langchain-community"
   ]
  },
  {
   "cell_type": "code",
   "execution_count": 2,
   "id": "a0a15bc7-4648-4196-a8f4-dfb51a5b482f",
   "metadata": {
    "tags": []
   },
   "outputs": [
    {
     "ename": "NameError",
     "evalue": "name 'python' is not defined",
     "output_type": "error",
     "traceback": [
      "\u001b[0;31m---------------------------------------------------------------------------\u001b[0m",
      "\u001b[0;31mNameError\u001b[0m                                 Traceback (most recent call last)",
      "Cell \u001b[0;32mIn[2], line 2\u001b[0m\n\u001b[1;32m      1\u001b[0m \u001b[38;5;28;01mimport\u001b[39;00m \u001b[38;5;21;01msys\u001b[39;00m\n\u001b[0;32m----> 2\u001b[0m \u001b[38;5;28mprint\u001b[39m(\u001b[43mpython\u001b[49m\u001b[38;5;241m.\u001b[39mversion)\n",
      "\u001b[0;31mNameError\u001b[0m: name 'python' is not defined"
     ]
    }
   ],
   "source": [
    "import sys\n",
    "print(python.version)"
   ]
  },
  {
   "cell_type": "code",
   "execution_count": 1,
   "id": "362e4dae-e839-4b83-94a2-26967eb299a5",
   "metadata": {
    "tags": []
   },
   "outputs": [],
   "source": [
    "import tiktoken\n",
    "import pandas as pd\n",
    "import numpy as np\n",
    "from langchain.llms import OpenAI\n",
    "from langchain.callbacks import get_openai_callback"
   ]
  },
  {
   "cell_type": "code",
   "execution_count": null,
   "id": "873f1557-c571-4fe2-b47d-8163a8d8122b",
   "metadata": {
    "tags": []
   },
   "outputs": [],
   "source": [
    "def contar_tokens(texto, modelo=\"gpt-4-turbo\"):\n",
    "    codificador = tiktoken.encoding_for_model(modelo)\n",
    "    return len(codificador.encode(texto))"
   ]
  },
  {
   "cell_type": "code",
   "execution_count": null,
   "id": "120d95d2-2f7d-4f41-b074-c427206aae77",
   "metadata": {
    "tags": []
   },
   "outputs": [],
   "source": [
    "# Ejemplo de uso\n",
    "texto_ejemplo = \"Este es un ejemplo de texto para contar tokens.\"\n",
    "num_tokens = contar_tokens(texto_ejemplo)\n",
    "print(f\"El texto contiene {num_tokens} tokens.\")"
   ]
  },
  {
   "cell_type": "code",
   "execution_count": null,
   "id": "42b5fbd5-e393-4bad-af25-073928062a31",
   "metadata": {},
   "outputs": [],
   "source": []
  },
  {
   "cell_type": "code",
   "execution_count": null,
   "id": "5b0f5051-d479-4343-904c-18432ef8447d",
   "metadata": {},
   "outputs": [],
   "source": []
  },
  {
   "cell_type": "code",
   "execution_count": null,
   "id": "12efcc3b-e447-444e-af94-5c944e7d6067",
   "metadata": {
    "tags": []
   },
   "outputs": [],
   "source": [
    "llm = OpenAI()\n",
    "with get_openai_callback() as cb:\n",
    "    result = llm(\"Tu texto aquí\")\n",
    "    print(f\"Tokens utilizados: {cb.total_tokens}\")"
   ]
  },
  {
   "cell_type": "code",
   "execution_count": null,
   "id": "e1700852-d94c-44d2-a4fb-67632a4d04cf",
   "metadata": {},
   "outputs": [],
   "source": []
  },
  {
   "cell_type": "code",
   "execution_count": 2,
   "id": "994d0d86-52cd-4617-9a93-6941dd3348b7",
   "metadata": {
    "tags": []
   },
   "outputs": [
    {
     "data": {
      "text/html": [
       "<div>\n",
       "<style scoped>\n",
       "    .dataframe tbody tr th:only-of-type {\n",
       "        vertical-align: middle;\n",
       "    }\n",
       "\n",
       "    .dataframe tbody tr th {\n",
       "        vertical-align: top;\n",
       "    }\n",
       "\n",
       "    .dataframe thead th {\n",
       "        text-align: right;\n",
       "    }\n",
       "</style>\n",
       "<table border=\"1\" class=\"dataframe\">\n",
       "  <thead>\n",
       "    <tr style=\"text-align: right;\">\n",
       "      <th></th>\n",
       "      <th>Nombre_Carpeta</th>\n",
       "      <th>Nombre_Imagen</th>\n",
       "      <th>Texto_Extraido</th>\n",
       "      <th>conteo_caracteres</th>\n",
       "      <th>Numero_Pagina</th>\n",
       "    </tr>\n",
       "  </thead>\n",
       "  <tbody>\n",
       "    <tr>\n",
       "      <th>0</th>\n",
       "      <td>Ecogeographic survey of the target species-Cos...</td>\n",
       "      <td>page_1.png</td>\n",
       "      <td>Outreof st 1998\\nNEW\\n3151\\n3156\\n3152\\n3126\\n...</td>\n",
       "      <td>321</td>\n",
       "      <td>1</td>\n",
       "    </tr>\n",
       "    <tr>\n",
       "      <th>1</th>\n",
       "      <td>Ecogeographic survey of the target species-Cos...</td>\n",
       "      <td>page_2.png</td>\n",
       "      <td>Part 1 - Ecogeographic survey of the target sp...</td>\n",
       "      <td>4529</td>\n",
       "      <td>2</td>\n",
       "    </tr>\n",
       "    <tr>\n",
       "      <th>2</th>\n",
       "      <td>Ecogeographic survey of the target species-Cos...</td>\n",
       "      <td>page_3.png</td>\n",
       "      <td>2\\nResults and discussion\\nPhaseolus costarice...</td>\n",
       "      <td>4375</td>\n",
       "      <td>3</td>\n",
       "    </tr>\n",
       "    <tr>\n",
       "      <th>3</th>\n",
       "      <td>Ecogeographic survey of the target species-Cos...</td>\n",
       "      <td>page_4.png</td>\n",
       "      <td>3\\nof bush varieties, usually planted in Octob...</td>\n",
       "      <td>4127</td>\n",
       "      <td>4</td>\n",
       "    </tr>\n",
       "    <tr>\n",
       "      <th>4</th>\n",
       "      <td>Ecogeographic survey of the target species-Cos...</td>\n",
       "      <td>page_5.png</td>\n",
       "      <td>4\\nBrunner, B.R.&amp; J.S. Beaver. 1989. Estimatio...</td>\n",
       "      <td>2682</td>\n",
       "      <td>5</td>\n",
       "    </tr>\n",
       "  </tbody>\n",
       "</table>\n",
       "</div>"
      ],
      "text/plain": [
       "                                      Nombre_Carpeta Nombre_Imagen  \\\n",
       "0  Ecogeographic survey of the target species-Cos...    page_1.png   \n",
       "1  Ecogeographic survey of the target species-Cos...    page_2.png   \n",
       "2  Ecogeographic survey of the target species-Cos...    page_3.png   \n",
       "3  Ecogeographic survey of the target species-Cos...    page_4.png   \n",
       "4  Ecogeographic survey of the target species-Cos...    page_5.png   \n",
       "\n",
       "                                      Texto_Extraido  conteo_caracteres  \\\n",
       "0  Outreof st 1998\\nNEW\\n3151\\n3156\\n3152\\n3126\\n...                321   \n",
       "1  Part 1 - Ecogeographic survey of the target sp...               4529   \n",
       "2  2\\nResults and discussion\\nPhaseolus costarice...               4375   \n",
       "3  3\\nof bush varieties, usually planted in Octob...               4127   \n",
       "4  4\\nBrunner, B.R.& J.S. Beaver. 1989. Estimatio...               2682   \n",
       "\n",
       "   Numero_Pagina  \n",
       "0              1  \n",
       "1              2  \n",
       "2              3  \n",
       "3              4  \n",
       "4              5  "
      ]
     },
     "execution_count": 2,
     "metadata": {},
     "output_type": "execute_result"
    }
   ],
   "source": [
    "parquet_file_path = '/home/ec2-user/SageMaker/genebanks/genebank-general/data/3_out_data/Ecogeographic survey of the target species-Costa Rica-2004.parquet'\n",
    "df = pd.read_parquet(parquet_file_path, engine='pyarrow')\n",
    "df.head()"
   ]
  },
  {
   "cell_type": "code",
   "execution_count": null,
   "id": "7a1eaa16-78c3-43ce-a69d-6a0eb8036d91",
   "metadata": {},
   "outputs": [],
   "source": []
  },
  {
   "cell_type": "code",
   "execution_count": null,
   "id": "43f7274d-62fa-4d2e-88a7-95d02b541831",
   "metadata": {},
   "outputs": [],
   "source": []
  }
 ],
 "metadata": {
  "kernelspec": {
   "display_name": "conda_python3",
   "language": "python",
   "name": "conda_python3"
  },
  "language_info": {
   "codemirror_mode": {
    "name": "ipython",
    "version": 3
   },
   "file_extension": ".py",
   "mimetype": "text/x-python",
   "name": "python",
   "nbconvert_exporter": "python",
   "pygments_lexer": "ipython3",
   "version": "3.10.14"
  }
 },
 "nbformat": 4,
 "nbformat_minor": 5
}
